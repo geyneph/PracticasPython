{
 "cells": [
  {
   "cell_type": "markdown",
   "id": "e940888a",
   "metadata": {},
   "source": [
    "# Ejercicio 1\n",
    "Escribir un programa que pregunte el nombre del usuario en la consola y después de que el usuario lo introduzca muestre por pantalla la cadena ¡Hola <nombre>!, donde <nombre> es el nombre que el usuario haya introducido."
   ]
  },
  {
   "cell_type": "code",
   "execution_count": 2,
   "id": "b5dffdcd",
   "metadata": {},
   "outputs": [
    {
     "name": "stdout",
     "output_type": "stream",
     "text": [
      " Introduzca su nombre de usuarioEmiliano\n",
      "¡Hola! Emiliano\n"
     ]
    }
   ],
   "source": [
    "def saludo():\n",
    "    nombre = input(' Introduzca su nombre de usuario')\n",
    "    print(f'¡Hola! {nombre}')\n",
    "saludo()"
   ]
  },
  {
   "cell_type": "markdown",
   "id": "c3b7ebc3",
   "metadata": {},
   "source": [
    "# Ejercicio 2\n",
    "Escribir un programa que pregunte al usuario por el número de horas trabajadas y el coste por hora. Después debe mostrar por pantalla la paga que le corresponde."
   ]
  },
  {
   "cell_type": "code",
   "execution_count": 5,
   "id": "79576b71",
   "metadata": {},
   "outputs": [
    {
     "name": "stdout",
     "output_type": "stream",
     "text": [
      "Cuantas horas al dia trabajaste40\n",
      "Tu paga corresponde a un total de $900.0\n"
     ]
    }
   ],
   "source": [
    "def horas_trabajadas():\n",
    "    num_horas = int(input('Cuantas horas al dia trabajaste'))\n",
    "    costexhora = 22.5\n",
    "    paga = num_horas * costexhora\n",
    "    print(f'Tu paga corresponde a un total de ${paga}')\n",
    "horas_trabajadas()"
   ]
  },
  {
   "cell_type": "markdown",
   "id": "860e2c8d",
   "metadata": {},
   "source": [
    "# Strings practice"
   ]
  },
  {
   "cell_type": "markdown",
   "id": "48c50a6f",
   "metadata": {},
   "source": [
    "# Ejercicio 3\n",
    "Escribir un programa que pregunte el nombre del usuario en la consola y un número entero e imprima por pantalla en líneas distintas el nombre del usuario tantas veces como el número introducido.\n",
    "\n"
   ]
  },
  {
   "cell_type": "code",
   "execution_count": 9,
   "id": "35712d84",
   "metadata": {},
   "outputs": [
    {
     "name": "stdout",
     "output_type": "stream",
     "text": [
      "introduzca su nombreemiliano\n",
      "introduzca cuantas veces quiere que aparezca el nombre en la pantalla8\n",
      "1.emiliano\n",
      "2.emiliano\n",
      "3.emiliano\n",
      "4.emiliano\n",
      "5.emiliano\n",
      "6.emiliano\n",
      "7.emiliano\n",
      "8.emiliano\n"
     ]
    }
   ],
   "source": [
    "def ejercicio3():\n",
    "    nombre = input('introduzca su nombre')\n",
    "    count = int(input('introduzca cuantas veces quiere que aparezca el nombre en la pantalla'))\n",
    "    for a in range(1,count+1):\n",
    "        print(f'{str(a)}.'+ nombre)\n",
    "ejercicio3()"
   ]
  },
  {
   "cell_type": "markdown",
   "id": "985b5f8d",
   "metadata": {},
   "source": [
    "# Ejercicio4\n",
    "Escribir un programa que pregunte el nombre completo del usuario en la consola y después muestre por pantalla el nombre completo del usuario tres veces, una con todas las letras minúsculas, otra con todas las letras mayúsculas y otra solo con la primera letra del nombre y de los apellidos en mayúscula. El usuario puede introducir su nombre combinando mayúsculas y minúsculas como quiera."
   ]
  },
  {
   "cell_type": "code",
   "execution_count": 11,
   "id": "79f4bd61",
   "metadata": {},
   "outputs": [
    {
     "name": "stdout",
     "output_type": "stream",
     "text": [
      "Introduzca su nombrejose Emiliano rosales Geyne\n",
      "JOSE EMILIANO ROSALES GEYNE\n",
      "jose emiliano rosales geyne\n",
      "Jose Emiliano Rosales Geyne\n"
     ]
    }
   ],
   "source": [
    "def ejercicio4():\n",
    "    nombre = input('Introduzca su nombre')\n",
    "    print(nombre.upper())\n",
    "    print(nombre.lower())\n",
    "    print(nombre.title())\n",
    "ejercicio4()"
   ]
  },
  {
   "cell_type": "markdown",
   "id": "3c0c0a95",
   "metadata": {},
   "source": [
    "# Ejercicio 5\n",
    "Write a program who asks the name of the user in the console and after the user introduce it, show off on screen the name has 'n' letters, where name is the name of the user with upper letters and n is the number os letters."
   ]
  },
  {
   "cell_type": "code",
   "execution_count": 13,
   "id": "a6f62884",
   "metadata": {},
   "outputs": [
    {
     "name": "stdout",
     "output_type": "stream",
     "text": [
      "Introduzca su nombreemiliano\n",
      "The name: EMILIANO has 8 letters\n"
     ]
    }
   ],
   "source": [
    "def ejercicio5():\n",
    "    nombre = input('Introduzca su nombre').upper()\n",
    "    print(f'The name: {nombre} has {str(len(nombre))} letters')\n",
    "ejercicio5()"
   ]
  },
  {
   "cell_type": "markdown",
   "id": "9591d6a3",
   "metadata": {},
   "source": [
    "# Ejercicio 6\n",
    "Escribir un programa que pregunte por consola por los productos de una cesta de la compra, separados por comas, y muestre por pantalla cada uno de los productos en una línea distinta."
   ]
  },
  {
   "cell_type": "code",
   "execution_count": 19,
   "id": "c144a5f4",
   "metadata": {},
   "outputs": [
    {
     "name": "stdout",
     "output_type": "stream",
     "text": [
      "introduzca sus productos separados por comaAgua,jabon,papel,refresco,papasfritas\n",
      "1. Agua\n",
      "2. Jabon\n",
      "3. Papel\n",
      "4. Refresco\n",
      "5. Papasfritas\n"
     ]
    }
   ],
   "source": [
    "def ejercicio6():\n",
    "    productos = ((input('introduzca sus productos separados por coma')).strip()).split(',')\n",
    "    for a in range(0,len(productos)):\n",
    "        print(F'{str(a+1)}. '+ productos[a].title())\n",
    "ejercicio6()\n",
    "    "
   ]
  },
  {
   "cell_type": "markdown",
   "id": "c4943f04",
   "metadata": {},
   "source": [
    "# Condicionales\n"
   ]
  },
  {
   "cell_type": "markdown",
   "id": "00a5307b",
   "metadata": {},
   "source": [
    "# Ejercicio 7\n",
    "Escribir un programa que pregunte al usuario su edad y muestre por pantalla si es mayor de edad o no."
   ]
  },
  {
   "cell_type": "code",
   "execution_count": 22,
   "id": "7ff1e89e",
   "metadata": {},
   "outputs": [
    {
     "name": "stdout",
     "output_type": "stream",
     "text": [
      "introduzca su edad19\n",
      "Usted es mayor de edad\n",
      "introduzca su edad6\n",
      "Usted es menor de edad\n",
      "introduzca su edad200\n",
      "Imposible que tenga esa edad\n",
      "Usted es mayor de edad\n"
     ]
    }
   ],
   "source": [
    "def ejercicio7():\n",
    "    edad  = int(input('introduzca su edad'))\n",
    "    if edad not in range(0,105):\n",
    "        print('Imposible que tenga esa edad')\n",
    "    if edad > 18:\n",
    "        print('Usted es mayor de edad')\n",
    "    else:\n",
    "        print('Usted es menor de edad')\n",
    "ejercicio7()\n",
    "ejercicio7()\n",
    "ejercicio7()"
   ]
  },
  {
   "cell_type": "markdown",
   "id": "43f8ce62",
   "metadata": {},
   "source": [
    "# Ejercicio 8\n",
    "Escribir un programa para una empresa que tiene salas de juegos para todas las edades y quiere calcular de forma automática el precio que debe cobrar a sus clientes por entrar. El programa debe preguntar al usuario la edad del cliente y mostrar el precio de la entrada. Si el cliente es menor de 4 años puede entrar gratis, si tiene entre 4 y 18 años debe pagar 5€ y si es mayor de 18 años, 10€."
   ]
  },
  {
   "cell_type": "code",
   "execution_count": 3,
   "id": "6ab771fd",
   "metadata": {},
   "outputs": [
    {
     "name": "stdout",
     "output_type": "stream",
     "text": [
      "Introduzca su edad porfavor5\n",
      "su total: $5\n",
      "¿Cuanto desea abonar?5\n",
      "Su cambio es de: 0\n",
      "Introduzca su edad porfavor200\n",
      "Edad no valida\n",
      "Introduzca su edad porfavor23\n",
      "su total: $10\n",
      "¿Cuanto desea abonar?15\n",
      "Su cambio es de: 5\n"
     ]
    }
   ],
   "source": [
    "def ejercicio8():\n",
    "    edad = int(input('Introduzca su edad porfavor'))\n",
    "    if edad in range(0,100):\n",
    "        if edad<4:\n",
    "            print('Pase su entrada es gratis')\n",
    "        if edad in range(4,18):\n",
    "            print('su total: $5')\n",
    "            dinero = int(input('¿Cuanto desea abonar?'))\n",
    "            print(f'Su cambio es de: {str(dinero-5)}')\n",
    "        if edad in range(18,100):\n",
    "            print('su total: $10')\n",
    "            dinero = int(input('¿Cuanto desea abonar?'))\n",
    "            print(f'Su cambio es de: {str(dinero-10)}')\n",
    "    else:\n",
    "        print('Edad no valida')\n",
    "ejercicio8()\n",
    "ejercicio8()\n",
    "ejercicio8()"
   ]
  },
  {
   "cell_type": "markdown",
   "id": "b8f20d99",
   "metadata": {},
   "source": [
    "# Ejercicio 9\n",
    "Write a Python program to print the numbers of a specified list after removing even numbers from it. "
   ]
  },
  {
   "cell_type": "code",
   "execution_count": 24,
   "id": "6ac19aa7",
   "metadata": {},
   "outputs": [
    {
     "name": "stdout",
     "output_type": "stream",
     "text": [
      "12,30,40,5,6,7,8,9,10\n"
     ]
    },
    {
     "data": {
      "text/plain": [
       "[30, 5, 7, 9]"
      ]
     },
     "execution_count": 24,
     "metadata": {},
     "output_type": "execute_result"
    }
   ],
   "source": [
    "def excercise9():\n",
    "    numbers = list(map(int,input().split(',')))\n",
    "\n",
    "    for num in numbers:\n",
    "        if num %2 == 0:\n",
    "            numbers.remove(num)\n",
    "    return numbers\n",
    "excercise9()"
   ]
  },
  {
   "cell_type": "code",
   "execution_count": null,
   "id": "e117316b",
   "metadata": {},
   "outputs": [],
   "source": []
  }
 ],
 "metadata": {
  "kernelspec": {
   "display_name": "Python 3 (ipykernel)",
   "language": "python",
   "name": "python3"
  },
  "language_info": {
   "codemirror_mode": {
    "name": "ipython",
    "version": 3
   },
   "file_extension": ".py",
   "mimetype": "text/x-python",
   "name": "python",
   "nbconvert_exporter": "python",
   "pygments_lexer": "ipython3",
   "version": "3.10.9"
  }
 },
 "nbformat": 4,
 "nbformat_minor": 5
}
