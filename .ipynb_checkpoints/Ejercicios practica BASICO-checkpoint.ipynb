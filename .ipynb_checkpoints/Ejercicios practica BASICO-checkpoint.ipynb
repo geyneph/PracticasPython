{
 "cells": [
  {
   "cell_type": "markdown",
   "id": "e940888a",
   "metadata": {},
   "source": [
    "# Ejercicio 1\n",
    "Escribir un programa que pregunte el nombre del usuario en la consola y después de que el usuario lo introduzca muestre por pantalla la cadena ¡Hola <nombre>!, donde <nombre> es el nombre que el usuario haya introducido."
   ]
  },
  {
   "cell_type": "code",
   "execution_count": null,
   "id": "b5dffdcd",
   "metadata": {},
   "outputs": [],
   "source": [
    "def saludo():\n",
    "    nombre = input(' Introduzca su nombre de usuario')\n",
    "    print(f'¡Hola! {nombre}')\n",
    "saludo()"
   ]
  },
  {
   "cell_type": "markdown",
   "id": "c3b7ebc3",
   "metadata": {},
   "source": [
    "# Ejercicio 2\n",
    "Escribir un programa que pregunte al usuario por el número de horas trabajadas y el coste por hora. Después debe mostrar por pantalla la paga que le corresponde."
   ]
  },
  {
   "cell_type": "code",
   "execution_count": null,
   "id": "79576b71",
   "metadata": {},
   "outputs": [],
   "source": [
    "def horas_trabajadas():\n",
    "    num_horas = int(input('Cuantas horas al dia trabajaste'))\n",
    "    costexhora = 22.5\n",
    "    paga = num_horas * costexhora\n",
    "    print(f'Tu paga corresponde a un total de ${paga}')\n",
    "horas_trabajadas()"
   ]
  },
  {
   "cell_type": "markdown",
   "id": "860e2c8d",
   "metadata": {},
   "source": [
    "# Strings practice"
   ]
  },
  {
   "cell_type": "markdown",
   "id": "48c50a6f",
   "metadata": {},
   "source": [
    "# Ejercicio 3\n",
    "Escribir un programa que pregunte el nombre del usuario en la consola y un número entero e imprima por pantalla en líneas distintas el nombre del usuario tantas veces como el número introducido.\n",
    "\n"
   ]
  },
  {
   "cell_type": "code",
   "execution_count": null,
   "id": "35712d84",
   "metadata": {},
   "outputs": [],
   "source": [
    "def ejercicio3():\n",
    "    nombre = input('introduzca su nombre')\n",
    "    count = int(input('introduzca cuantas veces quiere que aparezca el nombre en la pantalla'))\n",
    "    for a in range(1,count+1):\n",
    "        print(f'{str(a)}.'+ nombre)\n",
    "ejercicio3()"
   ]
  },
  {
   "cell_type": "markdown",
   "id": "985b5f8d",
   "metadata": {},
   "source": [
    "# Ejercicio4\n",
    "Escribir un programa que pregunte el nombre completo del usuario en la consola y después muestre por pantalla el nombre completo del usuario tres veces, una con todas las letras minúsculas, otra con todas las letras mayúsculas y otra solo con la primera letra del nombre y de los apellidos en mayúscula. El usuario puede introducir su nombre combinando mayúsculas y minúsculas como quiera."
   ]
  },
  {
   "cell_type": "code",
   "execution_count": null,
   "id": "79f4bd61",
   "metadata": {},
   "outputs": [],
   "source": [
    "def ejercicio4():\n",
    "    nombre = input('Introduzca su nombre')\n",
    "    print(nombre.upper())\n",
    "    print(nombre.lower())\n",
    "    print(nombre.title())\n",
    "ejercicio4()"
   ]
  },
  {
   "cell_type": "markdown",
   "id": "3c0c0a95",
   "metadata": {},
   "source": [
    "# Ejercicio 5\n",
    "Write a program who asks the name of the user in the console and after the user introduce it, show off on screen the name has 'n' letters, where name is the name of the user with upper letters and n is the number os letters."
   ]
  },
  {
   "cell_type": "code",
   "execution_count": null,
   "id": "a6f62884",
   "metadata": {},
   "outputs": [],
   "source": [
    "def ejercicio5():\n",
    "    nombre = input('Introduzca su nombre').upper()\n",
    "    print(f'The name: {nombre} has {str(len(nombre))} letters')\n",
    "ejercicio5()"
   ]
  },
  {
   "cell_type": "markdown",
   "id": "9591d6a3",
   "metadata": {},
   "source": [
    "# Ejercicio 6\n",
    "Escribir un programa que pregunte por consola por los productos de una cesta de la compra, separados por comas, y muestre por pantalla cada uno de los productos en una línea distinta."
   ]
  },
  {
   "cell_type": "code",
   "execution_count": null,
   "id": "c144a5f4",
   "metadata": {},
   "outputs": [],
   "source": [
    "def ejercicio6():\n",
    "    productos = ((input('introduzca sus productos separados por coma')).strip()).split(',')\n",
    "    for a in range(0,len(productos)):\n",
    "        print(F'{str(a+1)}. '+ productos[a].title())\n",
    "ejercicio6()\n",
    "    "
   ]
  },
  {
   "cell_type": "markdown",
   "id": "c4943f04",
   "metadata": {},
   "source": [
    "# Condicionales\n"
   ]
  },
  {
   "cell_type": "markdown",
   "id": "00a5307b",
   "metadata": {},
   "source": [
    "# Ejercicio 7\n",
    "Escribir un programa que pregunte al usuario su edad y muestre por pantalla si es mayor de edad o no."
   ]
  },
  {
   "cell_type": "code",
   "execution_count": null,
   "id": "7ff1e89e",
   "metadata": {},
   "outputs": [],
   "source": [
    "def ejercicio7():\n",
    "    edad  = int(input('introduzca su edad'))\n",
    "    if edad not in range(0,105):\n",
    "        print('Imposible que tenga esa edad')\n",
    "    if edad > 18:\n",
    "        print('Usted es mayor de edad')\n",
    "    else:\n",
    "        print('Usted es menor de edad')\n",
    "ejercicio7()\n",
    "ejercicio7()\n",
    "ejercicio7()"
   ]
  },
  {
   "cell_type": "markdown",
   "id": "c4cdcd92",
   "metadata": {},
   "source": [
    "# Ejercicio 8\n",
    "Escribir un programa para una empresa que tiene salas de juegos para todas las edades y quiere calcular de forma automática el precio que debe cobrar a sus clientes por entrar. El programa debe preguntar al usuario la edad del cliente y mostrar el precio de la entrada. Si el cliente es menor de 4 años puede entrar gratis, si tiene entre 4 y 18 años debe pagar 5€ y si es mayor de 18 años, 10€."
   ]
  },
  {
   "cell_type": "code",
   "execution_count": null,
   "id": "5091cfbd",
   "metadata": {},
   "outputs": [],
   "source": [
    "def ejercicio8():\n",
    "    edad = int(input('Introduzca su edad porfavor'))\n",
    "    if edad in range(0,100):\n",
    "        if edad<4:\n",
    "            print('Pase su entrada es gratis')\n",
    "        if edad in range(4,18):\n",
    "            print('su total: $5')\n",
    "            dinero = int(input('¿Cuanto desea abonar?'))\n",
    "            print(f'Su cambio es de: {str(dinero-5)}')\n",
    "        if edad in range(18,100):\n",
    "            print('su total: $10')\n",
    "            dinero = int(input('¿Cuanto desea abonar?'))\n",
    "            print(f'Su cambio es de: {str(dinero-10)}')\n",
    "    else:\n",
    "        print('Edad no valida')\n",
    "ejercicio8()\n",
    "ejercicio8()\n",
    "ejercicio8()"
   ]
  },
  {
   "cell_type": "markdown",
   "id": "af300d16",
   "metadata": {},
   "source": [
    "# Ejercicio 9\n",
    "Write a Python program to print the numbers of a specified list after removing even numbers from it. "
   ]
  },
  {
   "cell_type": "code",
   "execution_count": null,
   "id": "83a14bf5",
   "metadata": {},
   "outputs": [],
   "source": [
    "def excercise9():\n",
    "    numbers = list(map(int,input().split(',')))\n",
    "\n",
    "    for num in numbers:\n",
    "        if num %2 == 0:\n",
    "            numbers.remove(num)\n",
    "    return numbers\n",
    "excercise9()"
   ]
  },
  {
   "cell_type": "markdown",
   "id": "71e30502",
   "metadata": {},
   "source": [
    "# BUCLES\n"
   ]
  },
  {
   "cell_type": "markdown",
   "id": "ed48856a",
   "metadata": {},
   "source": [
    "## Ejercicio 10\n",
    "Escribir un programa que pregunte al usuario su edad y muestre por pantalla todos los años que ha cumplido (desde 1 hasta su edad)."
   ]
  },
  {
   "cell_type": "code",
   "execution_count": null,
   "id": "26c3e8c8",
   "metadata": {},
   "outputs": [],
   "source": [
    "def ejercicio10():\n",
    "    edad = int(input('Bienvenido a calculando su edad por favor digite su edad'))\n",
    "    for a in range(0,edad+1):\n",
    "        print(f'Año:{a}')\n",
    "ejercicio10()"
   ]
  },
  {
   "cell_type": "markdown",
   "id": "db61deeb",
   "metadata": {},
   "source": [
    "# Ejercicio 11\n",
    "Escribir un programa que pida al usuario un número entero positivo y muestre por pantalla todos los números impares desde 1 hasta ese número separados por comas."
   ]
  },
  {
   "cell_type": "code",
   "execution_count": null,
   "id": "579c553e",
   "metadata": {},
   "outputs": [],
   "source": [
    "def ejercicio11():\n",
    "    numero = int(input('introduzca un numero:'))\n",
    "    string ='1'\n",
    "    for a in range(2,numero+1):\n",
    "        if a %2 != 0:\n",
    "            string= string+ ','+ str(a)\n",
    "    return string\n",
    "ejercicio11()"
   ]
  },
  {
   "cell_type": "markdown",
   "id": "db50c33d",
   "metadata": {},
   "source": [
    "# Ejercicio 12\n",
    "Escribir un programa en el que se pregunte al usuario por una frase y una letra, y muestre por pantalla el número de veces que aparece la letra en la frase."
   ]
  },
  {
   "cell_type": "code",
   "execution_count": null,
   "id": "5a1ed616",
   "metadata": {},
   "outputs": [],
   "source": [
    "def ejercicio12():\n",
    "    frase = input('introduzca una frase:').strip().lower()\n",
    "    letra = input('introduzca la letra que desea').lower()\n",
    "    dic = {}\n",
    "    for a in frase:\n",
    "        if a not in dic:\n",
    "            dic[a]=0\n",
    "        dic[a]+=1\n",
    "    print(f'La letra: {letra} aparece un total de: {str(dic[letra])} veces ')\n",
    "ejercicio12()\n",
    "    "
   ]
  },
  {
   "cell_type": "markdown",
   "id": "2a25eabf",
   "metadata": {},
   "source": [
    "# Ejercicio 13\n",
    "Escribir un programa que muestre el eco de todo lo que el usuario introduzca hasta que el usuario escriba “salir” que terminará."
   ]
  },
  {
   "cell_type": "code",
   "execution_count": null,
   "id": "f0954c08",
   "metadata": {},
   "outputs": [],
   "source": [
    "def ejercicio13():\n",
    "    func_status = True\n",
    "    while func_status:\n",
    "        frase = input().strip().lower()\n",
    "        print(frase)\n",
    "        if frase == 'salir':\n",
    "            func_status = False\n",
    "ejercicio13()"
   ]
  },
  {
   "cell_type": "markdown",
   "id": "a8760d99",
   "metadata": {},
   "source": [
    "# Listas y Tuplas\n",
    "\n"
   ]
  },
  {
   "cell_type": "markdown",
   "id": "04767db8",
   "metadata": {},
   "source": [
    "# Ejercicio 14\n",
    "Escribir un programa que pida al usuario una palabra y muestre por pantalla el número de veces que contiene cada vocal."
   ]
  },
  {
   "cell_type": "code",
   "execution_count": null,
   "id": "13676e0f",
   "metadata": {},
   "outputs": [],
   "source": [
    "def ejercicio14():\n",
    "    palabra = list(map(str,input('Intruduzca una palabra: ').strip().lower()))\n",
    "    a = 'a'\n",
    "    e = 'e'\n",
    "    i = 'i'\n",
    "    o = 'o'\n",
    "    u = 'u'\n",
    "    print(f'la letra A aparece: {str(palabra.count(a))} veces')     \n",
    "    print(f'la letra E aparece: {str(palabra.count(e))} veces')        \n",
    "    print(f'la letra I aparece: {str(palabra.count(i))} veces')        \n",
    "    print(f'la letra O aparece: {str(palabra.count(o))} veces')        \n",
    "    print(f'la letra U aparece: {str(palabra.count(u))} veces')        \n",
    "\n",
    "ejercicio14()\n",
    "    "
   ]
  },
  {
   "cell_type": "markdown",
   "id": "95fa962e",
   "metadata": {},
   "source": [
    "# Ejercicio 15\n",
    "Escribir un programa que pregunte por una muestra de números, separados por comas, los guarde en una lista y muestre por pantalla su media y desviación típica."
   ]
  },
  {
   "cell_type": "code",
   "execution_count": null,
   "id": "387c39e3",
   "metadata": {},
   "outputs": [],
   "source": [
    "import numpy as np\n",
    "def ejercicio15():\n",
    "    nums = list(map(int,input('Introduzca una serie de numeros separados por coma: ').strip().split(',')))\n",
    "    print(f'La desviacion estandar es de: {np.std(nums)}')\n",
    "    print(f'La media es de: {np.median(nums)}')\n",
    "        \n",
    "ejercicio15()"
   ]
  },
  {
   "cell_type": "markdown",
   "id": "2b449048",
   "metadata": {},
   "source": [
    "# Programacion funcional\n"
   ]
  },
  {
   "cell_type": "markdown",
   "id": "c17aef92",
   "metadata": {},
   "source": [
    "# Ejercicion 16\n",
    "Escribir una función que aplique un descuento a un precio y otra que aplique el IVA a un precio. Escribir una tercera función que reciba un diccionario con los precios y porcentajes de una cesta de la compra, y una de las funciones anteriores, y utilice la función pasada para aplicar los descuentos o el IVA a los productos de la cesta y devolver el precio final de la cesta."
   ]
  },
  {
   "cell_type": "code",
   "execution_count": null,
   "id": "ae283a34",
   "metadata": {},
   "outputs": [],
   "source": [
    "import random as rm\n",
    "def descuento(precio,porcentaje):\n",
    "    total = precio-precio*(porcentaje/100)\n",
    "    return total\n",
    "def iva(precio):\n",
    "    total = precio+precio*0.16\n",
    "    return total\n",
    "def ejercicio16():\n",
    "    dic = {}\n",
    "    func_on = True\n",
    "    while func_on:\n",
    "        producto = [input('Introduce el nombre del producto: '),float(input('introduce su precio: ')),rm.randint(0,100),0]\n",
    "        dic[producto[0]] = [producto[1],producto[2],producto[3]]\n",
    "        decision = input('1:agregar otro prodcuto 2:salir')\n",
    "        if decision == '1':\n",
    "            func_on = True\n",
    "        if decision == '2':\n",
    "            func_on = False                                                    \n",
    "    total = 0\n",
    "    for a in dic.items():\n",
    "        a[1][2]=descuento(a[1][0],a[1][1])+ iva(a[1][0])\n",
    "        total +=a[1][2]\n",
    "    for producto in dic.keys():\n",
    "        print(producto)\n",
    "    print(f'El total de su cuenta es de: {total}')\n",
    "ejercicio16()"
   ]
  },
  {
   "cell_type": "markdown",
   "id": "c9997f29",
   "metadata": {},
   "source": [
    "# Ejercicio 17\n",
    "Escribir una función que simule una calculadora científica que permita calcular el seno, coseno, tangente, exponencial y logaritmo neperiano. La función preguntará al usuario el valor y la función a aplicar, y mostrará por pantalla una tabla con los enteros de 1 al valor introducido y el resultado de aplicar la función a esos enteros."
   ]
  },
  {
   "cell_type": "code",
   "execution_count": null,
   "id": "81ec9c59",
   "metadata": {},
   "outputs": [],
   "source": [
    "import math as mt\n",
    "def ejercicio17():\n",
    "    print('Bienvenido a la calculadora cientifica: ')\n",
    "    valor = int(input('introduzca su entero'))\n",
    "    funcion = input('Que desea calcular: seno,coseno,tangente,exponencial o logaritmo').lower()\n",
    "    if funcion == 'seno':\n",
    "        for a in range(0,valor+1):\n",
    "            print(f'El seno de {a} es de: {mt.sin(a)}')\n",
    "    if funcion == 'coseno':\n",
    "        for a in range(0,valor+1):\n",
    "            print(f'El coseno de {a} es de: {mt.cos(a)}')\n",
    "    if funcion == 'tangente':\n",
    "        for a in range(0,valor+1):\n",
    "            print(f'La tangente de {a} es de: {mt.tan(a)}')\n",
    "    if funcion == 'exponencial':\n",
    "        for a in range(0,valor+1):\n",
    "            print(f'El exponencial de {a} es de: {mt.exp(a)}')\n",
    "    if funcion == 'logaritmo':\n",
    "        for a in range(1,valor+1):\n",
    "            print(f'El logaritmo de {a} es de: {mt.log(a)}')\n",
    "ejercicio17()"
   ]
  },
  {
   "cell_type": "markdown",
   "id": "5bb99806",
   "metadata": {},
   "source": [
    "# Ejercicio 18\n",
    "Escribir una función que reciba otra función y una lista, y devuelva otra lista con el resultado de aplicar la función dada a cada uno de los elementos de la lista.\n",
    "\n"
   ]
  },
  {
   "cell_type": "code",
   "execution_count": null,
   "id": "dd6b13ea",
   "metadata": {},
   "outputs": [],
   "source": [
    "import math\n",
    "def sen(valor):\n",
    "    return math.sin(valor)\n",
    "lista = list(map(int,input('introduce valores separados por coma: ').strip().split(',')))\n",
    "def ejercicio18():\n",
    "    lista_n = []\n",
    "    for a in lista:\n",
    "        lista_n.append(sen(a))\n",
    "    return lista_n\n",
    "ejercicio18()"
   ]
  },
  {
   "cell_type": "markdown",
   "id": "c9a9c6cc",
   "metadata": {},
   "source": [
    "# ejercicio 19\n",
    "Escribir una función que reciba una muestra de números y devuelva los valores atípicos, es decir, los valores cuya puntuación típica sea mayor que 3 o menor que -3. Nota: La puntuación típica de un valor se obtiene restando la media y dividiendo por la desviación típica de la muestra.\n"
   ]
  },
  {
   "cell_type": "code",
   "execution_count": null,
   "id": "1c18a753",
   "metadata": {},
   "outputs": [],
   "source": [
    "import pandas as pd\n",
    "import math as mt\n",
    "from statistics import mean, stdev\n",
    "def ejercicio19():\n",
    "    result_l = []\n",
    "    lista_nums = list(map(int,input('introduce numeros separados por coma: ').strip().split(',')))\n",
    "    mean1 = mean(lista_nums)\n",
    "    std = stdev(lista_nums)\n",
    "    for num in lista_nums:\n",
    "        result = (num - mean1) / std\n",
    "        if result< -3 or result >3:\n",
    "            result_l.append(num)\n",
    "    return result_l\n",
    "ejercicio19()\n",
    "    \n",
    "    "
   ]
  },
  {
   "cell_type": "code",
   "execution_count": null,
   "id": "1a855aeb",
   "metadata": {},
   "outputs": [],
   "source": [
    "from statistics import mean, stdev\n",
    "\n",
    "def atipico(muestra):\n",
    "    media = mean(muestra)\n",
    "    desviacion = stdev(muestra)\n",
    "    def f(n):\n",
    "        puntuacion = (n - media) / desviacion\n",
    "        return (puntuacion < -3) or (puntuacion > 3)\n",
    "    return f\n",
    "\n",
    "def datos_atipicos(muestra):\n",
    "    return list(filter(atipico(muestra), muestra))\n",
    "\n",
    "print(datos_atipicos([1, 2, 3, 4, 5, 6, 7, 8, 9, 10, 1000]))"
   ]
  },
  {
   "cell_type": "markdown",
   "id": "dace5a3c",
   "metadata": {},
   "source": [
    "# FICHEROS\n",
    "\n"
   ]
  },
  {
   "cell_type": "markdown",
   "id": "bb0505c3",
   "metadata": {},
   "source": [
    "# Ejercicio 20\n",
    "Escribir una función que pida un número entero entre 1 y 10 y guarde en un fichero con el nombre tabla-n.txt la tabla de multiplicar de ese número, done n es el número introducido."
   ]
  },
  {
   "cell_type": "code",
   "execution_count": null,
   "id": "396b7e14",
   "metadata": {},
   "outputs": [],
   "source": [
    "def ejercicio20():\n",
    "    num = 0\n",
    "    while num not in range(1,11):\n",
    "        num = int(input('introduce un numero entre 1 y 10: '))\n",
    "    nombre_fichero = f'tabla del {num}.txt'\n",
    "    f = open(nombre_fichero,'w')\n",
    "    for i in range(0,11):\n",
    "        f.write(f'{i}x{num} = {str(i*num)} \\n')\n",
    "    f.close()\n",
    "ejercicio20()\n",
    "        "
   ]
  },
  {
   "cell_type": "markdown",
   "id": "bb2ec641",
   "metadata": {},
   "source": [
    "# Ejercicio 21\n",
    "Escribir una función que pida un número entero entre 1 y 10, lea el fichero tabla-n.txt con la tabla de multiplicar de ese número, done n es el número introducido, y la muestre por pantalla. Si el fichero no existe debe mostrar un mensaje por pantalla informando de ello."
   ]
  },
  {
   "cell_type": "code",
   "execution_count": null,
   "id": "eb376756",
   "metadata": {},
   "outputs": [],
   "source": [
    "def ejercicio21():\n",
    "    num = 0\n",
    "    while num not in range(1,11):\n",
    "        num = int(input('Introduce un numero del 1 al 10: '))\n",
    "    nombre_fichero = f'tabla del {num}.txt'\n",
    "    try:\n",
    "        f = open(nombre_fichero,'r')\n",
    "    except FileNotFoundError:\n",
    "        print('Ese archivo no existe')\n",
    "    else:\n",
    "        print(f.read())\n",
    "        f.close()\n",
    "ejercicio21()\n",
    "ejercicio21()\n",
    "\n",
    "        "
   ]
  },
  {
   "cell_type": "markdown",
   "id": "745873aa",
   "metadata": {},
   "source": [
    "# Ejercicio 22\n",
    "Escribir una función que pida dos números n y m entre 1 y 10, lea el fichero tabla-n.txt con la tabla de multiplicar de ese número, y muestre por pantalla la línea m del fichero. Si el fichero no existe debe mostrar un mensaje por pantalla informando de ello.\n"
   ]
  },
  {
   "cell_type": "code",
   "execution_count": null,
   "id": "e59feea6",
   "metadata": {},
   "outputs": [],
   "source": [
    "def ejercicio22():\n",
    "    func_on = True\n",
    "    while func_on:\n",
    "        n = int(input('introduce un numero entre 1-10: '))\n",
    "        m = int(input('introduce otro numero entre 1-10: '))\n",
    "        if n and m in range(0,11):\n",
    "            func_on= False\n",
    "        else:\n",
    "            print('digite numeros dentro de los rangos')\n",
    "    nombreArchivo = f'tabla del {n}.txt'\n",
    "    try:\n",
    "        f = open(nombreArchivo,'r')\n",
    "    except FileNotFoundError:\n",
    "        print('Ese archivo no existe')\n",
    "    else:\n",
    "        lineas = f.readlines()\n",
    "        print(lineas[m])\n",
    "ejercicio22()\n",
    "            "
   ]
  },
  {
   "cell_type": "markdown",
   "id": "1865bd44",
   "metadata": {},
   "source": [
    "# Ejercicio 23\n",
    "Escribir un programa que acceda a un fichero de internet mediante su url y muestre por pantalla el número de palabras que contiene."
   ]
  },
  {
   "cell_type": "code",
   "execution_count": null,
   "id": "b6d67ef1",
   "metadata": {},
   "outputs": [],
   "source": [
    "from urllib import request\n",
    "from urllib.error import URLError\n",
    "def ejercicio23():\n",
    "    '''\n",
    "    Funcion que Nos permite contar cuantas palabras tiene un fichero de internet mediante su url, importaremos\n",
    "    la libreria urllib\n",
    "    '''\n",
    "    url = input('INTRODUZCA SU URL: ').strip()\n",
    "    try:\n",
    "        f = request.urlopen(url)\n",
    "    except URLError:\n",
    "        print('ESA URL NO EXISTE')\n",
    "    else:\n",
    "        contenido = f.read()\n",
    "        print(f'La url: {url} tiene: {len(contenido.split())} palabras.') \n",
    "ejercicio23()\n",
    "ejercicio23()\n",
    "ejercicio23()"
   ]
  },
  {
   "cell_type": "markdown",
   "id": "2b5abbeb",
   "metadata": {},
   "source": [
    "# Ejercicio 24\n",
    "Escribir un programa para gestionar un listín telefónico con los nombres y los teléfonos de los clientes de una empresa. El programa incorporar funciones crear el fichero con el listín si no existe, para consultar el teléfono de un cliente, añadir el teléfono de un nuevo cliente y eliminar el teléfono de un cliente. El listín debe estar guardado en el fichero de texto listin.txt donde el nombre del cliente y su teléfono deben aparecer separados por comas y cada cliente en una línea distinta."
   ]
  },
  {
   "cell_type": "code",
   "execution_count": null,
   "id": "a3c8eeb2",
   "metadata": {},
   "outputs": [],
   "source": [
    "def ejercicio24():\n",
    "    '''\n",
    "    Programa que realiza la gestion de creacion consulta y edicion de ficheros telefonicos\n",
    "    '''\n",
    "    #variables Generales\n",
    "   \n",
    "    \n",
    "    \n",
    "    #Funciones\n",
    "    def crearFichero():\n",
    "        nombreFichero = input('introduce el nombre del fichero').strip()\n",
    "        f = open(f'{nombreFichero}.txt','w')\n",
    "        f.write('Hola bienvenido al Fichero de nombres y telefonos\\n')\n",
    "    \n",
    "    def consulta():\n",
    "        nombreArchivo = input('introduzca el nombre del fichero').strip()+'.txt'\n",
    "        try:\n",
    "            f = open(nombreArchivo,'r')\n",
    "        except FileNotFoundError:\n",
    "            print('Ese archivo no existe')\n",
    "        else:\n",
    "            print(f.read())\n",
    "        \n",
    "    def añadir():\n",
    "        dic={}\n",
    "        nombreArchivo = input('introduzca el nombre del fichero').strip()+'.txt'\n",
    "        try:\n",
    "            f = open(nombreArchivo,'w')\n",
    "        except FileNotFoundError:\n",
    "            print('Ese archivo no existe')\n",
    "        else:\n",
    "            func_on = True\n",
    "            while func_on:\n",
    "                nombre = input('Introduzca el nombre de la persona:').strip().title()\n",
    "                telefono = int(input('Digite su numero de telefono: ').strip())\n",
    "                if nombre not in dic:\n",
    "                    dic[nombre] = telefono\n",
    "                salir = input('Si desea dejar de agregar presione 2 si no enter')\n",
    "                if salir == '2':\n",
    "                    func_on = False\n",
    "            for a in dic.items():\n",
    "                nombre,telefono=a\n",
    "                f.write(f'nombre: {nombre} telefono: {telefono}\\n')\n",
    "            f.close()\n",
    "            \n",
    "            \n",
    "\n",
    "    #Bucle de menú principal\n",
    "    func_on = True\n",
    "    while func_on:\n",
    "        eleccion = input('Introduce porfavor que desea realizar \\n 1. Crear el fichero\\n 2.consultar el telefono de un cliente\\n 3.Añadir el telefono de un nuevo cliente\\n 4.eliminar el telefono de un cliente\\n 5.Salir').strip().lower()\n",
    "        if eleccion == '1':\n",
    "            crearFichero()\n",
    "        if eleccion == '2':\n",
    "            consulta()\n",
    "        if eleccion == '3':\n",
    "            añadir()\n",
    "        if eleccion == '5':\n",
    "            func_on = False\n",
    "            \n",
    "    \n",
    "    \n",
    "    \n",
    "    \n",
    "        \n",
    "    "
   ]
  },
  {
   "cell_type": "code",
   "execution_count": null,
   "id": "79d47117",
   "metadata": {},
   "outputs": [],
   "source": [
    "ejercicio24()"
   ]
  },
  {
   "cell_type": "markdown",
   "id": "0bc0bacd",
   "metadata": {},
   "source": [
    "# EJERCICIOS DE DEPURACION\n",
    "\n",
    "\n"
   ]
  },
  {
   "cell_type": "markdown",
   "id": "ae075fd7",
   "metadata": {},
   "source": [
    "# Ejercicio 25\n",
    "Corregir los errores sintácticos del siguiente programa:"
   ]
  },
  {
   "cell_type": "code",
   "execution_count": null,
   "id": "2a64d591",
   "metadata": {},
   "outputs": [],
   "source": [
    "contraseña = input('Introduce la contraseña: \")\n",
    "if contraseña in ['sesamo'):\n",
    "  print('Pasa')\n",
    "else\n",
    "  print('No pasa')"
   ]
  },
  {
   "cell_type": "code",
   "execution_count": null,
   "id": "c8ae07b0",
   "metadata": {},
   "outputs": [],
   "source": [
    "contraseña = input('introduce la contraseña: ')\n",
    "if contraseña in ('sesamo'):\n",
    "    print('pasa')\n",
    "else:\n",
    "    print('No pasa')"
   ]
  },
  {
   "cell_type": "code",
   "execution_count": null,
   "id": "fcf74f27",
   "metadata": {},
   "outputs": [],
   "source": [
    "class perro():\n",
    "    def __init__(self):\n",
    "        self.name= input('introduce el nombre del perro')\n",
    "perro1 = perro()"
   ]
  },
  {
   "cell_type": "code",
   "execution_count": null,
   "id": "461cf6b0",
   "metadata": {},
   "outputs": [],
   "source": [
    "print(perro1.name)"
   ]
  },
  {
   "cell_type": "markdown",
   "id": "a128357e",
   "metadata": {},
   "source": [
    "# EJERCICIOS DE CLASES PROGRAMACION ORIENTADA A OBJETOS\n"
   ]
  },
  {
   "cell_type": "markdown",
   "id": "4e636c45",
   "metadata": {},
   "source": [
    "# EJERCICIO 26\n",
    "Vamos a crear una clase llamada Persona. Sus atributos son: nombre, edad y DNI. Construye los siguientes métodos para la clase:\n",
    "\n",
    "Un constructor, donde los datos pueden estar vacíos.\n",
    "Los setters y getters para cada uno de los atributos. Hay que validar las entradas de datos.\n",
    "mostrar(): Muestra los datos de la persona.\n",
    "esMayorDeEdad(): Devuelve un valor lógico indicando si es mayor de edad.\n"
   ]
  },
  {
   "cell_type": "code",
   "execution_count": 6,
   "id": "4d99210c",
   "metadata": {},
   "outputs": [],
   "source": [
    "class persona():\n",
    "    def __init__(self):\n",
    "        self.nombre = input('introduce Su nombre: ')\n",
    "        self.edad = int(input('introduce su edad: '))\n",
    "        self.DNI = int(input('introduce el DNI: '))\n",
    "    def mostrar(self):\n",
    "        print(f'su nombre es: {self.nombre} \\nsu edad es de:{self.edad} \\nsu DNI es de: {self.DNI}')\n",
    "        \n",
    "    def esMayorDeEdad(self):\n",
    "        if self.edad>18:\n",
    "            return True\n",
    "        else:\n",
    "            return False"
   ]
  },
  {
   "cell_type": "code",
   "execution_count": 2,
   "id": "c544abf4",
   "metadata": {},
   "outputs": [
    {
     "name": "stdout",
     "output_type": "stream",
     "text": [
      "introduce Su nombre: Jose Emiliano Rosales Geyne\n",
      "introduce su edad: 23\n",
      "introduce el DNI: 4567890\n"
     ]
    }
   ],
   "source": [
    "persona1 = persona()"
   ]
  },
  {
   "cell_type": "code",
   "execution_count": 9,
   "id": "949e08cf",
   "metadata": {},
   "outputs": [
    {
     "name": "stdout",
     "output_type": "stream",
     "text": [
      "su nombre es: Jose Emiliano Rosales Geyne \n",
      " su edad es de:23 \n",
      " su DNI es de: 4567890\n"
     ]
    },
    {
     "data": {
      "text/plain": [
       "True"
      ]
     },
     "execution_count": 9,
     "metadata": {},
     "output_type": "execute_result"
    }
   ],
   "source": [
    "persona1.mostrar()\n",
    "persona1.esMayorDeEdad()"
   ]
  },
  {
   "cell_type": "markdown",
   "id": "81795d25",
   "metadata": {},
   "source": [
    "# EJERCICIO 27\n",
    "En un banco tienen clientes que pueden hacer depósitos y extracciones de dinero. El banco requiere también al final del día calcular la cantidad de dinero que se ha depositado.\n",
    "\n",
    "Se deberán crear dos clases, la clase cliente y la clase banco. La clase cliente tendrá los atributos nombre y cantidad y los métodos __init__, depositar, extraer, mostrar_total.\n",
    "\n",
    "La clase banco tendrá como atributos 3 objetos de la clase cliente y los métodos __init__, operar y deposito_total."
   ]
  },
  {
   "cell_type": "code",
   "execution_count": 12,
   "id": "9650785d",
   "metadata": {},
   "outputs": [],
   "source": [
    "class cliente():\n",
    "    def __init__(self):\n",
    "        self.nombre = input('introduczca su nombre nuevo cliente: ')\n",
    "        self.cantidad = 0\n",
    "    def depositar(self):\n",
    "        amount = int(input('Introduzca que cantidad de dinero quiere depositar: '))\n",
    "        self.cantidad+=amount\n",
    "        print(f'Su nuevo balance es de: {self.cantidad}')\n",
    "    def extraer(self):\n",
    "        amount = int(input('introduzca cuanto quiere retirar: '))\n",
    "        self.cantidad -= amount\n",
    "    def mostrarTotal(self):\n",
    "        print(f'usted tiene en su cuenta un total de: {self.cantidad}')\n",
    "    def __str__(self):\n",
    "        print(f'{self.nombre} tiene un total de: {self.cantidad} en su cuenta de banco')\n",
    "        \n",
    "        "
   ]
  },
  {
   "cell_type": "code",
   "execution_count": 13,
   "id": "5671a625",
   "metadata": {},
   "outputs": [
    {
     "name": "stdout",
     "output_type": "stream",
     "text": [
      "introduczca su nombre nuevo cliente: Jose Emiliano Rosales Geyne\n"
     ]
    }
   ],
   "source": [
    "jose = cliente()"
   ]
  },
  {
   "cell_type": "code",
   "execution_count": null,
   "id": "d8931c7e",
   "metadata": {
    "collapsed": true
   },
   "outputs": [],
   "source": []
  }
 ],
 "metadata": {
  "kernelspec": {
   "display_name": "Python 3 (ipykernel)",
   "language": "python",
   "name": "python3"
  },
  "language_info": {
   "codemirror_mode": {
    "name": "ipython",
    "version": 3
   },
   "file_extension": ".py",
   "mimetype": "text/x-python",
   "name": "python",
   "nbconvert_exporter": "python",
   "pygments_lexer": "ipython3",
   "version": "3.10.9"
  }
 },
 "nbformat": 4,
 "nbformat_minor": 5
}
