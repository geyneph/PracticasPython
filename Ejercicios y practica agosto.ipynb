{
 "cells": [
  {
   "cell_type": "markdown",
   "id": "e940888a",
   "metadata": {},
   "source": [
    "# Ejercicio 1\n",
    "Escribir un programa que pregunte el nombre del usuario en la consola y después de que el usuario lo introduzca muestre por pantalla la cadena ¡Hola <nombre>!, donde <nombre> es el nombre que el usuario haya introducido."
   ]
  },
  {
   "cell_type": "code",
   "execution_count": 2,
   "id": "b5dffdcd",
   "metadata": {},
   "outputs": [
    {
     "name": "stdout",
     "output_type": "stream",
     "text": [
      " Introduzca su nombre de usuarioEmiliano\n",
      "¡Hola! Emiliano\n"
     ]
    }
   ],
   "source": [
    "def saludo():\n",
    "    nombre = input(' Introduzca su nombre de usuario')\n",
    "    print(f'¡Hola! {nombre}')\n",
    "saludo()"
   ]
  },
  {
   "cell_type": "markdown",
   "id": "c3b7ebc3",
   "metadata": {},
   "source": [
    "# Ejercicio 2\n",
    "Escribir un programa que pregunte al usuario por el número de horas trabajadas y el coste por hora. Después debe mostrar por pantalla la paga que le corresponde."
   ]
  },
  {
   "cell_type": "code",
   "execution_count": 5,
   "id": "79576b71",
   "metadata": {},
   "outputs": [
    {
     "name": "stdout",
     "output_type": "stream",
     "text": [
      "Cuantas horas al dia trabajaste40\n",
      "Tu paga corresponde a un total de $900.0\n"
     ]
    }
   ],
   "source": [
    "def horas_trabajadas():\n",
    "    num_horas = int(input('Cuantas horas al dia trabajaste'))\n",
    "    costexhora = 22.5\n",
    "    paga = num_horas * costexhora\n",
    "    print(f'Tu paga corresponde a un total de ${paga}')\n",
    "horas_trabajadas()"
   ]
  },
  {
   "cell_type": "code",
   "execution_count": null,
   "id": "b0dc7628",
   "metadata": {},
   "outputs": [],
   "source": []
  }
 ],
 "metadata": {
  "kernelspec": {
   "display_name": "Python 3 (ipykernel)",
   "language": "python",
   "name": "python3"
  },
  "language_info": {
   "codemirror_mode": {
    "name": "ipython",
    "version": 3
   },
   "file_extension": ".py",
   "mimetype": "text/x-python",
   "name": "python",
   "nbconvert_exporter": "python",
   "pygments_lexer": "ipython3",
   "version": "3.10.9"
  }
 },
 "nbformat": 4,
 "nbformat_minor": 5
}
